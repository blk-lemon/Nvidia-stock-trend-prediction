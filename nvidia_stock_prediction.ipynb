{
 "cells": [
  {
   "cell_type": "code",
   "execution_count": 1,
   "metadata": {},
   "outputs": [
    {
     "name": "stderr",
     "output_type": "stream",
     "text": [
      "C:\\Users\\caozm\\Anaconda3\\lib\\site-packages\\sklearn\\cross_validation.py:41: DeprecationWarning: This module was deprecated in version 0.18 in favor of the model_selection module into which all the refactored classes and functions are moved. Also note that the interface of the new CV iterators are different from that of this module. This module will be removed in 0.20.\n",
      "  \"This module will be removed in 0.20.\", DeprecationWarning)\n"
     ]
    }
   ],
   "source": [
    "# import what we going to use\n",
    "import pandas as pd\n",
    "import quandl\n",
    "import math\n",
    "import numpy as np\n",
    "from sklearn import preprocessing, cross_validation, svm\n",
    "from sklearn.linear_model import LinearRegression"
   ]
  },
  {
   "cell_type": "code",
   "execution_count": 2,
   "metadata": {},
   "outputs": [
    {
     "name": "stdout",
     "output_type": "stream",
     "text": [
      "              High     Low    Last  Previous Day Price  Volume\n",
      "Date                                                          \n",
      "2014-03-21  13.550  13.460  13.550               13.36     NaN\n",
      "2014-03-24  13.385  13.340  13.340               13.55     NaN\n",
      "2014-03-25  13.320  13.320  13.320               13.34     NaN\n",
      "2014-03-26  13.350  13.350  13.350               13.32     NaN\n",
      "2014-03-27  13.075  13.075  13.075               13.35     NaN\n"
     ]
    }
   ],
   "source": [
    "# read the data from web\n",
    "df = quandl.get('SSE/NVD')\n",
    "# see whats going on\n",
    "print(df.head())"
   ]
  },
  {
   "cell_type": "code",
   "execution_count": 3,
   "metadata": {
    "collapsed": true
   },
   "outputs": [],
   "source": [
    "# define new features\n",
    "df = df[['High','Low','Last','Previous Day Price','Volume']]\n",
    "df['HL_PCT'] = (df['High'] - df['Low']) / df['Low'] * 100.0\n",
    "df['PCT_change'] = (df['Last'] - df['Previous Day Price']) / df['Previous Day Price'] * 100.0"
   ]
  },
  {
   "cell_type": "code",
   "execution_count": 4,
   "metadata": {},
   "outputs": [
    {
     "name": "stdout",
     "output_type": "stream",
     "text": [
      "              Last    HL_PCT  PCT_change  Volume\n",
      "Date                                            \n",
      "2014-03-21  13.550  0.668648    1.422156     NaN\n",
      "2014-03-24  13.340  0.337331   -1.549815     NaN\n",
      "2014-03-25  13.320  0.000000   -0.149925     NaN\n",
      "2014-03-26  13.350  0.000000    0.225225     NaN\n",
      "2014-03-27  13.075  0.000000   -2.059925     NaN\n"
     ]
    }
   ],
   "source": [
    "# use new features\n",
    "df = df[['Last','HL_PCT','PCT_change','Volume']]\n",
    "# check again\n",
    "print(df.head())"
   ]
  },
  {
   "cell_type": "code",
   "execution_count": 5,
   "metadata": {},
   "outputs": [
    {
     "name": "stdout",
     "output_type": "stream",
     "text": [
      "33\n",
      "              Last    HL_PCT  PCT_change  Volume   label\n",
      "Date                                                    \n",
      "2018-07-27  214.98  2.714932   -1.597473   355.0  228.33\n",
      "2018-07-30  209.99  4.008093   -2.321146   309.0  231.46\n",
      "2018-07-31  211.13  1.700385    0.542883   569.0  236.93\n",
      "2018-08-01  209.77  0.658366   -0.644153   126.0  236.17\n",
      "2018-08-02  216.61  3.979455    3.260714   321.0  233.80\n"
     ]
    }
   ],
   "source": [
    "# replace missing data, make them outliers\n",
    "forecast_col = 'Last'\n",
    "df.fillna(-99999, inplace=True)\n",
    "\n",
    "forecast_out = int(math.ceil(0.03*len(df))) #get 3 percent\n",
    "print(forecast_out)\n",
    "\n",
    "df['label'] = df[forecast_col].shift(-forecast_out) # shift the column\n",
    "df.dropna(inplace=True)\n",
    "# check the last 5 rows\n",
    "print(df.tail())"
   ]
  },
  {
   "cell_type": "code",
   "execution_count": 6,
   "metadata": {},
   "outputs": [
    {
     "name": "stdout",
     "output_type": "stream",
     "text": [
      "1008 1008\n"
     ]
    }
   ],
   "source": [
    "# scale x and y, make sure they have same length\n",
    "X = np.array(df.drop(['label'],1))\n",
    "X = preprocessing.scale(X)\n",
    "X_lately = X[-forecast_out:]\n",
    "X = X[:-forecast_out:]\n",
    "\n",
    "df.dropna(inplace=True)\n",
    "\n",
    "y = np.array(df['label'])\n",
    "y = y[:-forecast_out]\n",
    "# confirmed !\n",
    "print(len(X),len(y))"
   ]
  },
  {
   "cell_type": "code",
   "execution_count": 7,
   "metadata": {},
   "outputs": [
    {
     "data": {
      "text/plain": [
       "LinearRegression(copy_X=True, fit_intercept=True, n_jobs=10, normalize=False)"
      ]
     },
     "execution_count": 7,
     "metadata": {},
     "output_type": "execute_result"
    }
   ],
   "source": [
    "# split the training and test data\n",
    "X_train, X_test, y_train, y_test = cross_validation.train_test_split(X, y, test_size=0.2)\n",
    "# run 10 jobs at the same time\n",
    "clf = LinearRegression(n_jobs=10)\n",
    "clf.fit(X_train, y_train)"
   ]
  },
  {
   "cell_type": "code",
   "execution_count": 8,
   "metadata": {
    "collapsed": true
   },
   "outputs": [],
   "source": [
    "# import pickle, when there is new data, skip the training process\n",
    "import pickle\n",
    "with open('linearregression.pickle','wb') as f:\n",
    "    pickle.dump(clf, f)\n",
    "pickle_in = open('linearregression.pickle','rb')\n",
    "clf = pickle.load(pickle_in)"
   ]
  },
  {
   "cell_type": "code",
   "execution_count": 9,
   "metadata": {},
   "outputs": [
    {
     "name": "stdout",
     "output_type": "stream",
     "text": [
      "0.968901677597\n"
     ]
    }
   ],
   "source": [
    "# check accuracy of model\n",
    "accuracy = clf.score(X_test, y_test)\n",
    "# pretty good\n",
    "print(accuracy)"
   ]
  },
  {
   "cell_type": "code",
   "execution_count": 10,
   "metadata": {},
   "outputs": [
    {
     "name": "stdout",
     "output_type": "stream",
     "text": [
      "[ 234.09356286  234.96687638  232.66689391  226.77351797  218.01628558\n",
      "  217.98140155  215.18921409  217.60371307  214.24221883  218.71110413\n",
      "  214.05260825  212.09044461  216.74876881  218.66063715  219.66551366\n",
      "  223.59935534  221.24488489  224.53368119  222.75934132  221.27123231\n",
      "  228.21145208  226.06788066  224.46976119  224.22504875  223.41308777\n",
      "  222.29815295  222.15398994  227.70935067  225.28269793  221.28317687\n",
      "  220.16215174  218.29763858  226.74972425] 0.968901677597 33\n"
     ]
    }
   ],
   "source": [
    "forecast_set = clf.predict(X_lately)\n",
    "print(forecast_set, accuracy, forecast_out) #next 30 days prediction value"
   ]
  },
  {
   "cell_type": "code",
   "execution_count": 11,
   "metadata": {
    "collapsed": true
   },
   "outputs": [],
   "source": [
    "# ready to visulize them\n",
    "import datetime\n",
    "import matplotlib.pyplot as plt\n",
    "from matplotlib import style\n",
    "style.use('ggplot')"
   ]
  },
  {
   "cell_type": "code",
   "execution_count": 12,
   "metadata": {
    "collapsed": true
   },
   "outputs": [],
   "source": [
    "df['Forecast'] = np.nan\n",
    "last_date = df.iloc[-1].name\n",
    "last_unix = last_date.timestamp()\n",
    "one_day = 86400\n",
    "next_unix = last_unix + one_day"
   ]
  },
  {
   "cell_type": "code",
   "execution_count": 13,
   "metadata": {},
   "outputs": [
    {
     "data": {
      "image/png": "[encoded data removed]",
      "text/plain": [
       "<matplotlib.figure.Figure at 0x2c76eea4f98>"
      ]
     },
     "metadata": {},
     "output_type": "display_data"
    }
   ],
   "source": [
    "# plot next 30 days trend\n",
    "for i in forecast_set:\n",
    "    next_date = datetime.datetime.fromtimestamp(next_unix)\n",
    "    next_unix += one_day\n",
    "    df.loc[next_date] = [np.nan for _ in range(len(df.columns)-1)] + [i]\n",
    "    \n",
    "df['Last'].plot()\n",
    "df['Forecast'].plot()\n",
    "plt.legend(loc=5)\n",
    "plt.xlabel('Date')\n",
    "plt.ylabel('Price')\n",
    "plt.show()"
   ]
  },
  {
   "cell_type": "code",
   "execution_count": null,
   "metadata": {
    "collapsed": true
   },
   "outputs": [],
   "source": [
    "# this is only for trend if we use linear regression, can we improve it"
   ]
  }
 ],
 "metadata": {
  "kernelspec": {
   "display_name": "Python 3",
   "language": "python",
   "name": "python3"
  },
  "language_info": {
   "codemirror_mode": {
    "name": "ipython",
    "version": 3
   },
   "file_extension": ".py",
   "mimetype": "text/x-python",
   "name": "python",
   "nbconvert_exporter": "python",
   "pygments_lexer": "ipython3",
   "version": "3.6.2"
  }
 },
 "nbformat": 4,
 "nbformat_minor": 2
}
